{
  "Q1": {
    "Question": "What is an Exception in Python? Write the difference between Exceptions and Syntax errors.",
    "Answer": "An exception in Python is an event that disrupts the normal flow of a program's execution when it encounters an error. Exceptions can occur during runtime and are handled using try-except blocks. The main difference between exceptions and syntax errors is that syntax errors occur when the parser detects an incorrect statement structure, whereas exceptions occur during the execution of a statement or function due to an error condition."
  },
  "Q2": {
    "Question": "What happens when an exception is not handled? Explain with an example.",
    "Answer": "When an exception is not handled, it propagates up the call stack until a handler is found or it causes the program to terminate. For example, if a division by zero exception occurs and is not handled, it will cause the program to crash and display an error message, disrupting the program's normal execution flow."
  },
  "Q3": {
    "Question": "Which Python statements are used to catch and handle exceptions? Explain with an example.",
    "Answer": "Python uses the try, except, else, and finally statements to catch and handle exceptions:\n\ntry:\n    # Code that may raise an exception\n    result = 10 / 0  # Example of a division by zero exception\nexcept ZeroDivisionError as e:\n    # Handle specific exception type\n    print(f'Error: {e}')\nexcept Exception as e:\n    # Handle any other exceptions\n    print(f'Unexpected Error: {e}')\nelse:\n    # Execute if no exception is raised\n    print('No exceptions occurred.')\nfinally:\n    # Always executed, cleanup code\n    print('Cleanup code executed.')"
  },
  "Q4": {
    "Question": "Explain with an example: try, else, finally, and raise.",
    "Answer": "try:\n    x = int(input('Enter a number: '))\n    if x <= 0:\n        raise ValueError('Number must be positive.')\nexcept ValueError as e:\n    print(f'Error: {e}')\nelse:\n    print(f'You entered: {x}')\nfinally:\n    print('Execution complete.')"
  },
  "Q5": {
    "Question": "What are Custom Exceptions in Python? Why do we need Custom Exceptions? Explain with an example.",
    "Answer": "Custom exceptions in Python are user-defined exception classes that extend Python's built-in exceptions. They allow developers to create specific exception types tailored to their application's needs, providing more meaningful error handling. For example, in a banking application, you might define a 'InsufficientFundsError' to handle cases where a user tries to withdraw more money than available in their account."
  },
  "Q6": {
    "Question": "Create a custom exception class. Use this class to handle an exception.",
    "Answer": "class CustomError(Exception):\n    def __init__(self, message):\n        self.message = message\n\ndef example_function(x):\n    if x < 0:\n        raise CustomError('Number must be non-negative.')\n    return x * 2\n\ntry:\n    result = example_function(-1)\nexcept CustomError as e:\n    print(f'Error: {e.message}')"
  }
}
