{
 "cells": [
  {
   "cell_type": "markdown",
   "metadata": {},
   "source": [
    "**Q1. What is an Exception in Python? Write the difference between Exceptions and Syntax errors.**"
   ]
  },
  {
   "cell_type": "markdown",
   "metadata": {},
   "source": [
    "**Answer:**\n",
    "\n",
    "An exception in Python is an error that occurs during the execution of a program. It disrupts the normal flow of the program. Exceptions are events that can be caught and handled.\n",
    "\n",
    "**Difference between Exceptions and Syntax Errors:**\n",
    "- **Syntax Error**: Occurs when Python cannot interpret the code because the syntax is incorrect. These are detected before the program is run.\n",
    "- **Exception**: Occurs at runtime, even if the syntax is correct, due to situations like dividing by zero, accessing an invalid index, etc."
   ]
  },
  {
   "cell_type": "markdown",
   "metadata": {},
   "source": [
    "**Q2. What happens when an exception is not handled? Explain with an example.**"
   ]
  },
  {
   "cell_type": "code",
   "execution_count": null,
   "metadata": {},
   "outputs": [],
   "source": [
    "# If an exception is not handled, the program will terminate and show a traceback\n",
    "\n",
    "x = 10\n",
    "y = 0\n",
    "result = x / y  # This will raise ZeroDivisionError\n",
    "print(\"This line will not be executed\")"
   ]
  },
  {
   "cell_type": "markdown",
   "metadata": {},
   "source": [
    "**Q3. Which Python statements are used to catch and handle exceptions? Explain with an example.**"
   ]
  },
  {
   "cell_type": "code",
   "execution_count": null,
   "metadata": {},
   "outputs": [],
   "source": [
    "try:\n",
    "    a = int(input(\"Enter a number: \"))\n",
    "    result = 10 / a\n",
    "except ZeroDivisionError:\n",
    "    print(\"Cannot divide by zero!\")\n",
    "except ValueError:\n",
    "    print(\"Invalid input! Please enter a number.\")\n",
    "else:\n",
    "    print(\"Result is:\", result)\n",
    "finally:\n",
    "    print(\"Execution completed.\")"
   ]
  },
  {
   "cell_type": "markdown",
   "metadata": {},
   "source": [
    "**Q4. Explain with an example:**\n",
    "- try and else\n",
    "- finally\n",
    "- raise"
   ]
  },
  {
   "cell_type": "code",
   "execution_count": null,
   "metadata": {},
   "outputs": [],
   "source": [
    "try:\n",
    "    num = int(input(\"Enter a positive number: \"))\n",
    "    if num <= 0:\n",
    "        raise ValueError(\"Number must be positive\")\n",
    "except ValueError as ve:\n",
    "    print(\"Error:\", ve)\n",
    "else:\n",
    "    print(\"You entered:\", num)\n",
    "finally:\n",
    "    print(\"This block always runs, whether an exception occurred or not.\")"
   ]
  },
  {
   "cell_type": "markdown",
   "metadata": {},
   "source": [
    "**Q5. What are Custom Exceptions in Python? Why do we need Custom Exceptions? Explain with an example.**"
   ]
  },
  {
   "cell_type": "markdown",
   "metadata": {},
   "source": [
    "**Answer:**\n",
    "\n",
    "Custom exceptions are user-defined exceptions created by inheriting from the built-in `Exception` class. They help to raise meaningful errors specific to an application’s logic and make debugging easier.\n",
    "\n",
    "**Example:** In a banking app, you may want a specific exception for low balance rather than using generic `Exception`."
   ]
  },
  {
   "cell_type": "code",
   "execution_count": null,
   "metadata": {},
   "outputs": [],
   "source": [
    "class InsufficientFundsError(Exception):\n",
    "    pass\n",
    "\n",
    "balance = 500\n",
    "withdraw = 1000\n",
    "\n",
    "try:\n",
    "    if withdraw > balance:\n",
    "        raise InsufficientFundsError(\"Not enough balance to withdraw.\")\n",
    "    else:\n",
    "        balance -= withdraw\n",
    "        print(\"Withdrawal successful. Remaining balance:\", balance)\n",
    "except InsufficientFundsError as e:\n",
    "    print(\"Transaction failed:\", e)"
   ]
  },
  {
   "cell_type": "markdown",
   "metadata": {},
   "source": [
    "**Q6. Create a custom exception class. Use this class to handle an exception.**"
   ]
  },
  {
   "cell_type": "code",
   "execution_count": null,
   "metadata": {},
   "outputs": [],
   "source": [
    "class NegativeValueError(Exception):\n",
    "    def __init__(self, message):\n",
    "        self.message = message\n",
    "\n",
    "def square_root(x):\n",
    "    if x < 0:\n",
    "        raise NegativeValueError(\"Cannot calculate square root of negative number\")\n",
    "    return x ** 0.5\n",
    "\n",
    "try:\n",
    "    num = -9\n",
    "    result = square_root(num)\n",
    "    print(\"Result:\", result)\n",
    "except NegativeValueError as e:\n",
    "    print(\"Error:\", e.message)"
   ]
  }
 ],
 "metadata": {
  "kernelspec": {
   "display_name": "Python 3",
   "language": "python",
   "name": "python3"
  },
  "language_info": {
   "name": "python",
   "version": ""
  }
 },
 "nbformat": 4,
 "nbformat_minor": 2
}
